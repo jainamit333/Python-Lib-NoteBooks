{
 "cells": [
  {
   "cell_type": "markdown",
   "metadata": {},
   "source": [
    "This library help to add the progess bar on the loop, \n",
    "usualy very helpfull in processing data which is very  large."
   ]
  },
  {
   "cell_type": "code",
   "execution_count": 27,
   "metadata": {
    "collapsed": true
   },
   "outputs": [],
   "source": [
    "from tqdm import tqdm , tqdm_notebook , tnrange , trange\n",
    "import pandas as pd\n",
    "import numpy as np\n",
    "from time import sleep"
   ]
  },
  {
   "cell_type": "code",
   "execution_count": 3,
   "metadata": {},
   "outputs": [
    {
     "name": "stderr",
     "output_type": "stream",
     "text": [
      "100%|██████████| 10000/10000 [00:00<00:00, 2209039.87it/s]\n"
     ]
    }
   ],
   "source": [
    "for i in tqdm(range(10000)):\n",
    "    pass"
   ]
  },
  {
   "cell_type": "code",
   "execution_count": 5,
   "metadata": {},
   "outputs": [
    {
     "name": "stderr",
     "output_type": "stream",
     "text": [
      "100%|██████████| 4/4 [00:00<00:00, 39568.91it/s]\n"
     ]
    }
   ],
   "source": [
    "text = \"\"\n",
    "for char in tqdm([\"a\", \"b\", \"c\", \"d\"]):\n",
    "    text = text + char"
   ]
  },
  {
   "cell_type": "code",
   "execution_count": 7,
   "metadata": {},
   "outputs": [
    {
     "name": "stderr",
     "output_type": "stream",
     "text": [
      "Processing d: 100%|██████████| 4/4 [00:00<00:00, 18098.40it/s]\n"
     ]
    }
   ],
   "source": [
    "pbar = tqdm([\"a\", \"b\", \"c\", \"d\"])\n",
    "for char in pbar:\n",
    "    pbar.set_description(\"Processing %s\" % char)"
   ]
  },
  {
   "cell_type": "code",
   "execution_count": 16,
   "metadata": {},
   "outputs": [
    {
     "name": "stderr",
     "output_type": "stream",
     "text": [
      "my bar!: 7it [00:00, 1970.74it/s]             \n"
     ]
    },
    {
     "data": {
      "text/html": [
       "<div>\n",
       "<table border=\"1\" class=\"dataframe\">\n",
       "  <thead>\n",
       "    <tr style=\"text-align: right;\">\n",
       "      <th></th>\n",
       "      <th>0</th>\n",
       "      <th>1</th>\n",
       "      <th>2</th>\n",
       "      <th>3</th>\n",
       "      <th>4</th>\n",
       "      <th>5</th>\n",
       "    </tr>\n",
       "  </thead>\n",
       "  <tbody>\n",
       "    <tr>\n",
       "      <th>0</th>\n",
       "      <td>100</td>\n",
       "      <td>1369</td>\n",
       "      <td>7225</td>\n",
       "      <td>121</td>\n",
       "      <td>2704</td>\n",
       "      <td>841</td>\n",
       "    </tr>\n",
       "    <tr>\n",
       "      <th>1</th>\n",
       "      <td>576</td>\n",
       "      <td>4900</td>\n",
       "      <td>2401</td>\n",
       "      <td>9604</td>\n",
       "      <td>5041</td>\n",
       "      <td>2601</td>\n",
       "    </tr>\n",
       "    <tr>\n",
       "      <th>2</th>\n",
       "      <td>529</td>\n",
       "      <td>225</td>\n",
       "      <td>4225</td>\n",
       "      <td>9409</td>\n",
       "      <td>1156</td>\n",
       "      <td>4</td>\n",
       "    </tr>\n",
       "    <tr>\n",
       "      <th>3</th>\n",
       "      <td>1521</td>\n",
       "      <td>4900</td>\n",
       "      <td>5776</td>\n",
       "      <td>3249</td>\n",
       "      <td>2704</td>\n",
       "      <td>4225</td>\n",
       "    </tr>\n",
       "    <tr>\n",
       "      <th>4</th>\n",
       "      <td>8464</td>\n",
       "      <td>25</td>\n",
       "      <td>9604</td>\n",
       "      <td>5625</td>\n",
       "      <td>256</td>\n",
       "      <td>4624</td>\n",
       "    </tr>\n",
       "    <tr>\n",
       "      <th>5</th>\n",
       "      <td>7396</td>\n",
       "      <td>4489</td>\n",
       "      <td>1681</td>\n",
       "      <td>144</td>\n",
       "      <td>5041</td>\n",
       "      <td>2304</td>\n",
       "    </tr>\n",
       "    <tr>\n",
       "      <th>6</th>\n",
       "      <td>3249</td>\n",
       "      <td>9</td>\n",
       "      <td>841</td>\n",
       "      <td>64</td>\n",
       "      <td>9</td>\n",
       "      <td>4225</td>\n",
       "    </tr>\n",
       "    <tr>\n",
       "      <th>7</th>\n",
       "      <td>900</td>\n",
       "      <td>121</td>\n",
       "      <td>5776</td>\n",
       "      <td>1521</td>\n",
       "      <td>8649</td>\n",
       "      <td>1764</td>\n",
       "    </tr>\n",
       "    <tr>\n",
       "      <th>8</th>\n",
       "      <td>3249</td>\n",
       "      <td>3721</td>\n",
       "      <td>49</td>\n",
       "      <td>3249</td>\n",
       "      <td>2304</td>\n",
       "      <td>900</td>\n",
       "    </tr>\n",
       "    <tr>\n",
       "      <th>9</th>\n",
       "      <td>8649</td>\n",
       "      <td>100</td>\n",
       "      <td>4761</td>\n",
       "      <td>5476</td>\n",
       "      <td>7056</td>\n",
       "      <td>1849</td>\n",
       "    </tr>\n",
       "    <tr>\n",
       "      <th>10</th>\n",
       "      <td>361</td>\n",
       "      <td>196</td>\n",
       "      <td>9</td>\n",
       "      <td>625</td>\n",
       "      <td>8649</td>\n",
       "      <td>6084</td>\n",
       "    </tr>\n",
       "    <tr>\n",
       "      <th>11</th>\n",
       "      <td>9801</td>\n",
       "      <td>289</td>\n",
       "      <td>961</td>\n",
       "      <td>1681</td>\n",
       "      <td>3844</td>\n",
       "      <td>1681</td>\n",
       "    </tr>\n",
       "    <tr>\n",
       "      <th>12</th>\n",
       "      <td>16</td>\n",
       "      <td>3721</td>\n",
       "      <td>9216</td>\n",
       "      <td>484</td>\n",
       "      <td>6724</td>\n",
       "      <td>3364</td>\n",
       "    </tr>\n",
       "    <tr>\n",
       "      <th>13</th>\n",
       "      <td>2809</td>\n",
       "      <td>7396</td>\n",
       "      <td>1444</td>\n",
       "      <td>5776</td>\n",
       "      <td>81</td>\n",
       "      <td>256</td>\n",
       "    </tr>\n",
       "    <tr>\n",
       "      <th>14</th>\n",
       "      <td>441</td>\n",
       "      <td>2304</td>\n",
       "      <td>3249</td>\n",
       "      <td>7921</td>\n",
       "      <td>1156</td>\n",
       "      <td>729</td>\n",
       "    </tr>\n",
       "    <tr>\n",
       "      <th>15</th>\n",
       "      <td>729</td>\n",
       "      <td>49</td>\n",
       "      <td>6889</td>\n",
       "      <td>196</td>\n",
       "      <td>2025</td>\n",
       "      <td>1024</td>\n",
       "    </tr>\n",
       "    <tr>\n",
       "      <th>16</th>\n",
       "      <td>5184</td>\n",
       "      <td>8464</td>\n",
       "      <td>225</td>\n",
       "      <td>1764</td>\n",
       "      <td>7569</td>\n",
       "      <td>1024</td>\n",
       "    </tr>\n",
       "    <tr>\n",
       "      <th>17</th>\n",
       "      <td>1849</td>\n",
       "      <td>1849</td>\n",
       "      <td>1156</td>\n",
       "      <td>8649</td>\n",
       "      <td>3249</td>\n",
       "      <td>729</td>\n",
       "    </tr>\n",
       "    <tr>\n",
       "      <th>18</th>\n",
       "      <td>1444</td>\n",
       "      <td>144</td>\n",
       "      <td>3481</td>\n",
       "      <td>5625</td>\n",
       "      <td>961</td>\n",
       "      <td>3721</td>\n",
       "    </tr>\n",
       "    <tr>\n",
       "      <th>19</th>\n",
       "      <td>8464</td>\n",
       "      <td>5041</td>\n",
       "      <td>7396</td>\n",
       "      <td>400</td>\n",
       "      <td>529</td>\n",
       "      <td>7921</td>\n",
       "    </tr>\n",
       "    <tr>\n",
       "      <th>20</th>\n",
       "      <td>2809</td>\n",
       "      <td>3025</td>\n",
       "      <td>2500</td>\n",
       "      <td>4761</td>\n",
       "      <td>1</td>\n",
       "      <td>2809</td>\n",
       "    </tr>\n",
       "    <tr>\n",
       "      <th>21</th>\n",
       "      <td>4624</td>\n",
       "      <td>1600</td>\n",
       "      <td>841</td>\n",
       "      <td>7569</td>\n",
       "      <td>676</td>\n",
       "      <td>5476</td>\n",
       "    </tr>\n",
       "    <tr>\n",
       "      <th>22</th>\n",
       "      <td>1849</td>\n",
       "      <td>7056</td>\n",
       "      <td>961</td>\n",
       "      <td>196</td>\n",
       "      <td>4</td>\n",
       "      <td>4096</td>\n",
       "    </tr>\n",
       "    <tr>\n",
       "      <th>23</th>\n",
       "      <td>1936</td>\n",
       "      <td>2116</td>\n",
       "      <td>441</td>\n",
       "      <td>2116</td>\n",
       "      <td>2209</td>\n",
       "      <td>7396</td>\n",
       "    </tr>\n",
       "    <tr>\n",
       "      <th>24</th>\n",
       "      <td>2209</td>\n",
       "      <td>3249</td>\n",
       "      <td>841</td>\n",
       "      <td>1444</td>\n",
       "      <td>1024</td>\n",
       "      <td>400</td>\n",
       "    </tr>\n",
       "    <tr>\n",
       "      <th>25</th>\n",
       "      <td>1024</td>\n",
       "      <td>1600</td>\n",
       "      <td>3481</td>\n",
       "      <td>961</td>\n",
       "      <td>100</td>\n",
       "      <td>961</td>\n",
       "    </tr>\n",
       "    <tr>\n",
       "      <th>26</th>\n",
       "      <td>729</td>\n",
       "      <td>3969</td>\n",
       "      <td>8281</td>\n",
       "      <td>49</td>\n",
       "      <td>2704</td>\n",
       "      <td>6241</td>\n",
       "    </tr>\n",
       "    <tr>\n",
       "      <th>27</th>\n",
       "      <td>3136</td>\n",
       "      <td>5184</td>\n",
       "      <td>49</td>\n",
       "      <td>256</td>\n",
       "      <td>8836</td>\n",
       "      <td>9</td>\n",
       "    </tr>\n",
       "    <tr>\n",
       "      <th>28</th>\n",
       "      <td>5476</td>\n",
       "      <td>2116</td>\n",
       "      <td>3721</td>\n",
       "      <td>3969</td>\n",
       "      <td>9025</td>\n",
       "      <td>6084</td>\n",
       "    </tr>\n",
       "    <tr>\n",
       "      <th>29</th>\n",
       "      <td>2116</td>\n",
       "      <td>2500</td>\n",
       "      <td>441</td>\n",
       "      <td>3364</td>\n",
       "      <td>3364</td>\n",
       "      <td>5625</td>\n",
       "    </tr>\n",
       "    <tr>\n",
       "      <th>...</th>\n",
       "      <td>...</td>\n",
       "      <td>...</td>\n",
       "      <td>...</td>\n",
       "      <td>...</td>\n",
       "      <td>...</td>\n",
       "      <td>...</td>\n",
       "    </tr>\n",
       "    <tr>\n",
       "      <th>970</th>\n",
       "      <td>1225</td>\n",
       "      <td>3481</td>\n",
       "      <td>2025</td>\n",
       "      <td>6400</td>\n",
       "      <td>3249</td>\n",
       "      <td>8649</td>\n",
       "    </tr>\n",
       "    <tr>\n",
       "      <th>971</th>\n",
       "      <td>8100</td>\n",
       "      <td>1764</td>\n",
       "      <td>1521</td>\n",
       "      <td>1225</td>\n",
       "      <td>36</td>\n",
       "      <td>3025</td>\n",
       "    </tr>\n",
       "    <tr>\n",
       "      <th>972</th>\n",
       "      <td>400</td>\n",
       "      <td>484</td>\n",
       "      <td>5329</td>\n",
       "      <td>7921</td>\n",
       "      <td>8836</td>\n",
       "      <td>441</td>\n",
       "    </tr>\n",
       "    <tr>\n",
       "      <th>973</th>\n",
       "      <td>625</td>\n",
       "      <td>576</td>\n",
       "      <td>1849</td>\n",
       "      <td>81</td>\n",
       "      <td>6241</td>\n",
       "      <td>4489</td>\n",
       "    </tr>\n",
       "    <tr>\n",
       "      <th>974</th>\n",
       "      <td>81</td>\n",
       "      <td>4900</td>\n",
       "      <td>4489</td>\n",
       "      <td>1849</td>\n",
       "      <td>289</td>\n",
       "      <td>9216</td>\n",
       "    </tr>\n",
       "    <tr>\n",
       "      <th>975</th>\n",
       "      <td>6084</td>\n",
       "      <td>2116</td>\n",
       "      <td>5625</td>\n",
       "      <td>6241</td>\n",
       "      <td>7225</td>\n",
       "      <td>1089</td>\n",
       "    </tr>\n",
       "    <tr>\n",
       "      <th>976</th>\n",
       "      <td>9409</td>\n",
       "      <td>4624</td>\n",
       "      <td>3844</td>\n",
       "      <td>8649</td>\n",
       "      <td>6400</td>\n",
       "      <td>5776</td>\n",
       "    </tr>\n",
       "    <tr>\n",
       "      <th>977</th>\n",
       "      <td>6561</td>\n",
       "      <td>8464</td>\n",
       "      <td>6241</td>\n",
       "      <td>5625</td>\n",
       "      <td>3844</td>\n",
       "      <td>0</td>\n",
       "    </tr>\n",
       "    <tr>\n",
       "      <th>978</th>\n",
       "      <td>2401</td>\n",
       "      <td>3025</td>\n",
       "      <td>7056</td>\n",
       "      <td>36</td>\n",
       "      <td>676</td>\n",
       "      <td>7569</td>\n",
       "    </tr>\n",
       "    <tr>\n",
       "      <th>979</th>\n",
       "      <td>6889</td>\n",
       "      <td>1296</td>\n",
       "      <td>3844</td>\n",
       "      <td>3600</td>\n",
       "      <td>361</td>\n",
       "      <td>7744</td>\n",
       "    </tr>\n",
       "    <tr>\n",
       "      <th>980</th>\n",
       "      <td>2916</td>\n",
       "      <td>7744</td>\n",
       "      <td>3844</td>\n",
       "      <td>2704</td>\n",
       "      <td>4761</td>\n",
       "      <td>9</td>\n",
       "    </tr>\n",
       "    <tr>\n",
       "      <th>981</th>\n",
       "      <td>3364</td>\n",
       "      <td>36</td>\n",
       "      <td>6724</td>\n",
       "      <td>9</td>\n",
       "      <td>2025</td>\n",
       "      <td>4356</td>\n",
       "    </tr>\n",
       "    <tr>\n",
       "      <th>982</th>\n",
       "      <td>2916</td>\n",
       "      <td>1600</td>\n",
       "      <td>3844</td>\n",
       "      <td>25</td>\n",
       "      <td>1444</td>\n",
       "      <td>64</td>\n",
       "    </tr>\n",
       "    <tr>\n",
       "      <th>983</th>\n",
       "      <td>196</td>\n",
       "      <td>324</td>\n",
       "      <td>121</td>\n",
       "      <td>324</td>\n",
       "      <td>2304</td>\n",
       "      <td>225</td>\n",
       "    </tr>\n",
       "    <tr>\n",
       "      <th>984</th>\n",
       "      <td>3249</td>\n",
       "      <td>5776</td>\n",
       "      <td>361</td>\n",
       "      <td>4624</td>\n",
       "      <td>1444</td>\n",
       "      <td>400</td>\n",
       "    </tr>\n",
       "    <tr>\n",
       "      <th>985</th>\n",
       "      <td>4761</td>\n",
       "      <td>2916</td>\n",
       "      <td>1936</td>\n",
       "      <td>1296</td>\n",
       "      <td>36</td>\n",
       "      <td>7056</td>\n",
       "    </tr>\n",
       "    <tr>\n",
       "      <th>986</th>\n",
       "      <td>9801</td>\n",
       "      <td>8281</td>\n",
       "      <td>7056</td>\n",
       "      <td>8836</td>\n",
       "      <td>9409</td>\n",
       "      <td>4225</td>\n",
       "    </tr>\n",
       "    <tr>\n",
       "      <th>987</th>\n",
       "      <td>8100</td>\n",
       "      <td>5776</td>\n",
       "      <td>256</td>\n",
       "      <td>400</td>\n",
       "      <td>1296</td>\n",
       "      <td>81</td>\n",
       "    </tr>\n",
       "    <tr>\n",
       "      <th>988</th>\n",
       "      <td>1</td>\n",
       "      <td>1849</td>\n",
       "      <td>4356</td>\n",
       "      <td>4761</td>\n",
       "      <td>961</td>\n",
       "      <td>2209</td>\n",
       "    </tr>\n",
       "    <tr>\n",
       "      <th>989</th>\n",
       "      <td>25</td>\n",
       "      <td>3844</td>\n",
       "      <td>576</td>\n",
       "      <td>4489</td>\n",
       "      <td>324</td>\n",
       "      <td>144</td>\n",
       "    </tr>\n",
       "    <tr>\n",
       "      <th>990</th>\n",
       "      <td>5329</td>\n",
       "      <td>2809</td>\n",
       "      <td>324</td>\n",
       "      <td>2601</td>\n",
       "      <td>9025</td>\n",
       "      <td>324</td>\n",
       "    </tr>\n",
       "    <tr>\n",
       "      <th>991</th>\n",
       "      <td>1600</td>\n",
       "      <td>1764</td>\n",
       "      <td>6400</td>\n",
       "      <td>400</td>\n",
       "      <td>9604</td>\n",
       "      <td>9604</td>\n",
       "    </tr>\n",
       "    <tr>\n",
       "      <th>992</th>\n",
       "      <td>5041</td>\n",
       "      <td>5329</td>\n",
       "      <td>1369</td>\n",
       "      <td>3481</td>\n",
       "      <td>9604</td>\n",
       "      <td>784</td>\n",
       "    </tr>\n",
       "    <tr>\n",
       "      <th>993</th>\n",
       "      <td>2116</td>\n",
       "      <td>2116</td>\n",
       "      <td>1369</td>\n",
       "      <td>1296</td>\n",
       "      <td>5776</td>\n",
       "      <td>25</td>\n",
       "    </tr>\n",
       "    <tr>\n",
       "      <th>994</th>\n",
       "      <td>576</td>\n",
       "      <td>6084</td>\n",
       "      <td>1849</td>\n",
       "      <td>9604</td>\n",
       "      <td>1849</td>\n",
       "      <td>1521</td>\n",
       "    </tr>\n",
       "    <tr>\n",
       "      <th>995</th>\n",
       "      <td>3844</td>\n",
       "      <td>1156</td>\n",
       "      <td>7396</td>\n",
       "      <td>8649</td>\n",
       "      <td>841</td>\n",
       "      <td>169</td>\n",
       "    </tr>\n",
       "    <tr>\n",
       "      <th>996</th>\n",
       "      <td>3249</td>\n",
       "      <td>3600</td>\n",
       "      <td>3364</td>\n",
       "      <td>400</td>\n",
       "      <td>64</td>\n",
       "      <td>361</td>\n",
       "    </tr>\n",
       "    <tr>\n",
       "      <th>997</th>\n",
       "      <td>7396</td>\n",
       "      <td>961</td>\n",
       "      <td>121</td>\n",
       "      <td>100</td>\n",
       "      <td>1089</td>\n",
       "      <td>9216</td>\n",
       "    </tr>\n",
       "    <tr>\n",
       "      <th>998</th>\n",
       "      <td>144</td>\n",
       "      <td>2025</td>\n",
       "      <td>4624</td>\n",
       "      <td>484</td>\n",
       "      <td>9025</td>\n",
       "      <td>6561</td>\n",
       "    </tr>\n",
       "    <tr>\n",
       "      <th>999</th>\n",
       "      <td>1764</td>\n",
       "      <td>529</td>\n",
       "      <td>2916</td>\n",
       "      <td>144</td>\n",
       "      <td>9409</td>\n",
       "      <td>4096</td>\n",
       "    </tr>\n",
       "  </tbody>\n",
       "</table>\n",
       "<p>1000 rows × 6 columns</p>\n",
       "</div>"
      ],
      "text/plain": [
       "        0     1     2     3     4     5\n",
       "0     100  1369  7225   121  2704   841\n",
       "1     576  4900  2401  9604  5041  2601\n",
       "2     529   225  4225  9409  1156     4\n",
       "3    1521  4900  5776  3249  2704  4225\n",
       "4    8464    25  9604  5625   256  4624\n",
       "5    7396  4489  1681   144  5041  2304\n",
       "6    3249     9   841    64     9  4225\n",
       "7     900   121  5776  1521  8649  1764\n",
       "8    3249  3721    49  3249  2304   900\n",
       "9    8649   100  4761  5476  7056  1849\n",
       "10    361   196     9   625  8649  6084\n",
       "11   9801   289   961  1681  3844  1681\n",
       "12     16  3721  9216   484  6724  3364\n",
       "13   2809  7396  1444  5776    81   256\n",
       "14    441  2304  3249  7921  1156   729\n",
       "15    729    49  6889   196  2025  1024\n",
       "16   5184  8464   225  1764  7569  1024\n",
       "17   1849  1849  1156  8649  3249   729\n",
       "18   1444   144  3481  5625   961  3721\n",
       "19   8464  5041  7396   400   529  7921\n",
       "20   2809  3025  2500  4761     1  2809\n",
       "21   4624  1600   841  7569   676  5476\n",
       "22   1849  7056   961   196     4  4096\n",
       "23   1936  2116   441  2116  2209  7396\n",
       "24   2209  3249   841  1444  1024   400\n",
       "25   1024  1600  3481   961   100   961\n",
       "26    729  3969  8281    49  2704  6241\n",
       "27   3136  5184    49   256  8836     9\n",
       "28   5476  2116  3721  3969  9025  6084\n",
       "29   2116  2500   441  3364  3364  5625\n",
       "..    ...   ...   ...   ...   ...   ...\n",
       "970  1225  3481  2025  6400  3249  8649\n",
       "971  8100  1764  1521  1225    36  3025\n",
       "972   400   484  5329  7921  8836   441\n",
       "973   625   576  1849    81  6241  4489\n",
       "974    81  4900  4489  1849   289  9216\n",
       "975  6084  2116  5625  6241  7225  1089\n",
       "976  9409  4624  3844  8649  6400  5776\n",
       "977  6561  8464  6241  5625  3844     0\n",
       "978  2401  3025  7056    36   676  7569\n",
       "979  6889  1296  3844  3600   361  7744\n",
       "980  2916  7744  3844  2704  4761     9\n",
       "981  3364    36  6724     9  2025  4356\n",
       "982  2916  1600  3844    25  1444    64\n",
       "983   196   324   121   324  2304   225\n",
       "984  3249  5776   361  4624  1444   400\n",
       "985  4761  2916  1936  1296    36  7056\n",
       "986  9801  8281  7056  8836  9409  4225\n",
       "987  8100  5776   256   400  1296    81\n",
       "988     1  1849  4356  4761   961  2209\n",
       "989    25  3844   576  4489   324   144\n",
       "990  5329  2809   324  2601  9025   324\n",
       "991  1600  1764  6400   400  9604  9604\n",
       "992  5041  5329  1369  3481  9604   784\n",
       "993  2116  2116  1369  1296  5776    25\n",
       "994   576  6084  1849  9604  1849  1521\n",
       "995  3844  1156  7396  8649   841   169\n",
       "996  3249  3600  3364   400    64   361\n",
       "997  7396   961   121   100  1089  9216\n",
       "998   144  2025  4624   484  9025  6561\n",
       "999  1764   529  2916   144  9409  4096\n",
       "\n",
       "[1000 rows x 6 columns]"
      ]
     },
     "execution_count": 16,
     "metadata": {},
     "output_type": "execute_result"
    }
   ],
   "source": [
    "df = pd.DataFrame(np.random.randint(0, 100, (1000, 6)))\n",
    "tqdm.pandas(desc=\"my bar!\")\n",
    "df.progress_apply(lambda x: x**2)"
   ]
  },
  {
   "cell_type": "code",
   "execution_count": 26,
   "metadata": {},
   "outputs": [
    {
     "data": {
      "application/vnd.jupyter.widget-view+json": {
       "model_id": "4a8c2f4e219e42aa89425708591fe943"
      }
     },
     "metadata": {},
     "output_type": "display_data"
    },
    {
     "data": {
      "application/vnd.jupyter.widget-view+json": {
       "model_id": "0fcf696116d14e8594fac43c98ba734b"
      }
     },
     "metadata": {},
     "output_type": "display_data"
    },
    {
     "data": {
      "application/vnd.jupyter.widget-view+json": {
       "model_id": "e552bc339183463ea84e729f0aaad222"
      }
     },
     "metadata": {},
     "output_type": "display_data"
    },
    {
     "data": {
      "application/vnd.jupyter.widget-view+json": {
       "model_id": "322d7ea4c39e40fe8bdf44566cfae7ec"
      }
     },
     "metadata": {},
     "output_type": "display_data"
    },
    {
     "data": {
      "application/vnd.jupyter.widget-view+json": {
       "model_id": "403bba79ffc445fba286e2807c3b5788"
      }
     },
     "metadata": {},
     "output_type": "display_data"
    },
    {
     "data": {
      "application/vnd.jupyter.widget-view+json": {
       "model_id": "ebded5bba7a14c07b8558edc9196b9e4"
      }
     },
     "metadata": {},
     "output_type": "display_data"
    },
    {
     "data": {
      "application/vnd.jupyter.widget-view+json": {
       "model_id": "32a00b434c0b4b5599e03e0ae607b493"
      }
     },
     "metadata": {},
     "output_type": "display_data"
    },
    {
     "data": {
      "application/vnd.jupyter.widget-view+json": {
       "model_id": "39d76110ed81449d99104edb760e56e8"
      }
     },
     "metadata": {},
     "output_type": "display_data"
    },
    {
     "data": {
      "application/vnd.jupyter.widget-view+json": {
       "model_id": "0a403bd25f32461790e5085102f5af7d"
      }
     },
     "metadata": {},
     "output_type": "display_data"
    },
    {
     "data": {
      "application/vnd.jupyter.widget-view+json": {
       "model_id": "b4d3049c4653405b880ee787932f6339"
      }
     },
     "metadata": {},
     "output_type": "display_data"
    },
    {
     "data": {
      "application/vnd.jupyter.widget-view+json": {
       "model_id": "87d071b32135404a9e5a1cc4ec77ba77"
      }
     },
     "metadata": {},
     "output_type": "display_data"
    },
    {
     "name": "stdout",
     "output_type": "stream",
     "text": [
      "\n"
     ]
    }
   ],
   "source": [
    "for i in tnrange(10, desc='1st loop'):\n",
    "    for j in tqdm_notebook(range(100), desc='2nd loop'):\n",
    "        sleep(0.01)"
   ]
  },
  {
   "cell_type": "code",
   "execution_count": 32,
   "metadata": {},
   "outputs": [
    {
     "name": "stderr",
     "output_type": "stream",
     "text": [
      " 20%|██        | 2/10 [00:00<00:00,  9.75it/s]"
     ]
    },
    {
     "name": "stdout",
     "output_type": "stream",
     "text": [
      "Done task 0\n"
     ]
    },
    {
     "name": "stderr",
     "output_type": "stream",
     "text": [
      " 50%|█████     | 5/10 [00:00<00:00,  9.62it/s]"
     ]
    },
    {
     "name": "stdout",
     "output_type": "stream",
     "text": [
      "Done task 3\n"
     ]
    },
    {
     "name": "stderr",
     "output_type": "stream",
     "text": [
      " 80%|████████  | 8/10 [00:00<00:00,  9.59it/s]"
     ]
    },
    {
     "name": "stdout",
     "output_type": "stream",
     "text": [
      "Done task 6\n"
     ]
    },
    {
     "name": "stderr",
     "output_type": "stream",
     "text": [
      "100%|██████████| 10/10 [00:01<00:00,  9.57it/s]"
     ]
    },
    {
     "name": "stdout",
     "output_type": "stream",
     "text": [
      "Done task 9\n"
     ]
    },
    {
     "name": "stderr",
     "output_type": "stream",
     "text": [
      "\n"
     ]
    }
   ],
   "source": [
    "bar = trange(10)\n",
    "for i in bar:\n",
    "    # Print using tqdm class method .write()\n",
    "    sleep(0.1)\n",
    "    if not (i % 3):\n",
    "        tqdm.write(\"Done task %i\" % i)"
   ]
  },
  {
   "cell_type": "code",
   "execution_count": 33,
   "metadata": {},
   "outputs": [
    {
     "data": {
      "application/vnd.jupyter.widget-view+json": {
       "model_id": "28d5228554f348f0840219c8686cb680"
      }
     },
     "metadata": {},
     "output_type": "display_data"
    },
    {
     "name": "stdout",
     "output_type": "stream",
     "text": [
      "Done task 0\n",
      "Done task 3\n",
      "Done task 6\n",
      "Done task 9\n",
      "\n"
     ]
    }
   ],
   "source": [
    "bar = tnrange(10)\n",
    "for i in bar:\n",
    "    # Print using tqdm class method .write()\n",
    "    sleep(0.1)\n",
    "    if not (i % 3):\n",
    "        tqdm.write(\"Done task %i\" % i)"
   ]
  }
 ],
 "metadata": {
  "kernelspec": {
   "display_name": "Python 3",
   "language": "python",
   "name": "python3"
  },
  "language_info": {
   "codemirror_mode": {
    "name": "ipython",
    "version": 3
   },
   "file_extension": ".py",
   "mimetype": "text/x-python",
   "name": "python",
   "nbconvert_exporter": "python",
   "pygments_lexer": "ipython3",
   "version": "3.5.3"
  }
 },
 "nbformat": 4,
 "nbformat_minor": 2
}
